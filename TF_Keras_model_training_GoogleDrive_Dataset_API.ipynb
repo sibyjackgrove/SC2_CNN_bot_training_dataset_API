{
  "nbformat": 4,
  "nbformat_minor": 0,
  "metadata": {
    "colab": {
      "name": "TF_Keras_model_training_GoogleDrive_Dataset_API.ipynb",
      "version": "0.3.2",
      "provenance": [],
      "collapsed_sections": [],
      "include_colab_link": true
    },
    "kernelspec": {
      "display_name": "Python 3",
      "language": "python",
      "name": "python3"
    },
    "accelerator": "GPU"
  },
  "cells": [
    {
      "cell_type": "markdown",
      "metadata": {
        "id": "view-in-github",
        "colab_type": "text"
      },
      "source": [
        "[View in Colaboratory](https://colab.research.google.com/github/sibyjackgrove/Training_models_Google_Colab_TF_Dataset/blob/master/TF_Keras_model_training_GoogleDrive_Dataset_API.ipynb)"
      ]
    },
    {
      "metadata": {
        "id": "r4fTUouuvY1k",
        "colab_type": "code",
        "colab": {
          "base_uri": "https://localhost:8080/",
          "height": 54
        },
        "outputId": "2699d3c4-0795-48c6-ebdb-8e9718b389c8"
      },
      "cell_type": "code",
      "source": [
        "import tensorflow as tf\n",
        "from tensorflow.keras.models import Sequential\n",
        "from tensorflow.keras.layers import InputLayer,Dense, Dropout, Flatten\n",
        "from tensorflow.keras.layers import Conv2D, MaxPooling2D\n",
        "from tensorflow.keras.callbacks import TensorBoard\n",
        "import numpy as np\n",
        "import os\n",
        "import random\n",
        "import pandas as pd\n",
        "import matplotlib.pyplot as plt\n",
        "# Visualizations will be shown in the notebook.\n",
        "%matplotlib inline\n",
        "print(tf.__version__)\n",
        "\n",
        "device_name = tf.test.gpu_device_name()\n",
        "if device_name != '/device:GPU:0':\n",
        "    raise SystemError('GPU device not found')\n",
        "print('Found GPU at: {}'.format(device_name))"
      ],
      "execution_count": 1,
      "outputs": [
        {
          "output_type": "stream",
          "text": [
            "1.9.0\n",
            "Found GPU at: /device:GPU:0\n"
          ],
          "name": "stdout"
        }
      ]
    },
    {
      "metadata": {
        "id": "KFqk57NSvl9q",
        "colab_type": "code",
        "colab": {
          "base_uri": "https://localhost:8080/",
          "height": 203
        },
        "outputId": "98a72202-3235-495c-976e-8938ad40bf41"
      },
      "cell_type": "code",
      "source": [
        "#Install PyDrive to download data from Google Drive\n",
        "!pip install -U -q PyDrive\n",
        "!df"
      ],
      "execution_count": 2,
      "outputs": [
        {
          "output_type": "stream",
          "text": [
            "\u001b[33mYou are using pip version 10.0.1, however version 18.0 is available.\r\n",
            "You should consider upgrading via the 'pip install --upgrade pip' command.\u001b[0m\n",
            "Filesystem     1K-blocks    Used Available Use% Mounted on\n",
            "overlay        375674948 6239724 350282328   2% /\n",
            "tmpfs            6667592       0   6667592   0% /dev\n",
            "tmpfs            6667592       0   6667592   0% /sys/fs/cgroup\n",
            "tmpfs            6667592  254148   6413444   4% /opt/bin\n",
            "/dev/sda1      382718764 7911832 374790548   3% /etc/hosts\n",
            "shm                65536       0     65536   0% /dev/shm\n",
            "tmpfs            6667592       0   6667592   0% /sys/firmware\n"
          ],
          "name": "stdout"
        }
      ]
    },
    {
      "metadata": {
        "id": "VEd3yV1Vvvrw",
        "colab_type": "code",
        "colab": {}
      },
      "cell_type": "code",
      "source": [
        "from pydrive.auth import GoogleAuth\n",
        "from pydrive.drive import GoogleDrive\n",
        "from google.colab import auth\n",
        "from oauth2client.client import GoogleCredentials"
      ],
      "execution_count": 0,
      "outputs": []
    },
    {
      "metadata": {
        "id": "edgs2tAjvx-A",
        "colab_type": "code",
        "colab": {}
      },
      "cell_type": "code",
      "source": [
        "# 1. Authenticate and create the PyDrive client.\n",
        "auth.authenticate_user()\n",
        "gauth = GoogleAuth()\n",
        "gauth.credentials = GoogleCredentials.get_application_default()\n",
        "drive = GoogleDrive(gauth)"
      ],
      "execution_count": 0,
      "outputs": []
    },
    {
      "metadata": {
        "id": "L6b6TpFApbjt",
        "colab_type": "code",
        "colab": {
          "base_uri": "https://localhost:8080/",
          "height": 36
        },
        "outputId": "814adccc-cc9c-43dd-af32-7d12ba44803c"
      },
      "cell_type": "code",
      "source": [
        "str(folder_id)"
      ],
      "execution_count": 9,
      "outputs": [
        {
          "output_type": "execute_result",
          "data": {
            "text/plain": [
              "'1JBGpZM83MB5PQfdXsj3C7Axca6erhQrl'"
            ]
          },
          "metadata": {
            "tags": []
          },
          "execution_count": 9
        }
      ]
    },
    {
      "metadata": {
        "id": "3VZXqVX03Ysp",
        "colab_type": "code",
        "colab": {}
      },
      "cell_type": "code",
      "source": [
        "#folder_name = \"./training_data_stage1\"\n",
        "folder_id = '1JBGpZM83MB5PQfdXsj3C7Axca6erhQrl'\n",
        "READ_FILE = False\n",
        "#Find ID's of all files in folder\n",
        "#file_list = drive.ListFile({'q': \"'1JBGpZM83MB5PQfdXsj3C7Axca6erhQrl' in parents and trashed=false\"}).GetList()\n",
        "file_list = drive.ListFile({'q': \"'\"+folder_id+\"'\"+\" in parents and trashed=false\"}).GetList()\n",
        "\n",
        "data_list = []\n",
        "file_names_ids =[]\n",
        "\n",
        "for i,file in enumerate(file_list):\n",
        "    print('File number: %s, title: %s, id: %s' % (str(i), file['title'], file['id']))\n",
        "           \n",
        "    \n",
        "    file_names_ids.append((file['id'],file['title']))\n",
        "    \n",
        "#3. Read file as panda dataframe\n",
        "    if READ_FILE:\n",
        "        downloaded = drive.CreateFile({'id':file['id']}) # replace the id with id of file you want to access\n",
        "        downloaded.GetContentFile(file['title'])\n",
        "        \n",
        "        data = np.load(file['title'])\n",
        "        data_list.append(data)    \n",
        "\n"
      ],
      "execution_count": 0,
      "outputs": []
    },
    {
      "metadata": {
        "id": "eb_D1ivZaIAa",
        "colab_type": "code",
        "colab": {
          "base_uri": "https://localhost:8080/",
          "height": 73
        },
        "outputId": "c64e0b1e-0f72-44c4-c1d8-db67bd39a0fb"
      },
      "cell_type": "code",
      "source": [
        "#Seperate into training and validation files\n",
        "random.shuffle(file_names_ids)\n",
        "file_names_ids_training = file_names_ids[0:int(len(file_names_ids)*0.8)]\n",
        "file_names_ids_validation = file_names_ids[-(len(file_names_ids)-int(len(file_names_ids)*0.8)):]\n",
        "file_ids_training = []\n",
        "file_names_training = []\n",
        "file_ids_validation = []\n",
        "file_names_validation = []\n",
        "for item in file_names_ids_training:\n",
        "    file_ids_training.append(item[0])\n",
        "    file_names_training.append(item[1])\n",
        "\n",
        "for item in file_names_ids_validation:\n",
        "    file_ids_validation.append(item[0])\n",
        "    file_names_validation.append(item[1]) \n",
        "print('Number of files:',len(file_names_ids))\n",
        "print('Number of training files:',len(file_names_ids_training))\n",
        "print('Number of validation files:',len(file_names_ids_validation))"
      ],
      "execution_count": 13,
      "outputs": [
        {
          "output_type": "stream",
          "text": [
            "Number of files: 2868\n",
            "Number of training files: 2294\n",
            "Number of validation files: 574\n"
          ],
          "name": "stdout"
        }
      ]
    },
    {
      "metadata": {
        "id": "sKhcXyjZvY1t",
        "colab_type": "code",
        "colab": {}
      },
      "cell_type": "code",
      "source": [
        "def count_training_samples(file_names,debug=False):\n",
        "    num_train_samples = 0\n",
        "    for file_name in file_names:\n",
        "        x_train,y_train = read_numpy_file(file_name)\n",
        "        assert len(x_train) == len(y_train), 'Number of samples must be same'\n",
        "        if debug:\n",
        "            print('X samples:{},Y samples:{}'.format(len(x_train),len(y_train)))\n",
        "        num_train_samples = num_train_samples + len(x_train)\n",
        "    return num_train_samples\n",
        "        \n",
        "def read_numpy_file(file_name):\n",
        "    \n",
        "    downloaded = drive.CreateFile({'id':file_name['id']}) # replace the id with id of file you want to access\n",
        "    downloaded.GetContentFile(file_name['title'])\n",
        "    \n",
        "    data = np.load(file_name['title'])\n",
        "    #data = list(data)\n",
        "    x_train = np.array([i[1] for i in data[:-10]])\n",
        "    y_train = np.array([i[0] for i in data[:-10]])\n",
        "    print('X shape:{},Y shape:{}'.format(x_train.shape,y_train.shape))\n",
        "    return x_train,y_train\n",
        "\n",
        "def display_training_sample(file_names):\n",
        "    choice = random.choice(file_names)\n",
        "    x,y = read_numpy_file(choice)\n",
        "    choice = random.randrange(0, len(x))\n",
        "    plt.imshow(x[choice])\n",
        "    plt.title('Action:{}'.format(y[-2]))"
      ],
      "execution_count": 0,
      "outputs": []
    },
    {
      "metadata": {
        "id": "7AyjVC405QBb",
        "colab_type": "code",
        "colab": {
          "base_uri": "https://localhost:8080/",
          "height": 299
        },
        "outputId": "93119014-8bc3-407c-f5f1-2b66806d5fc3"
      },
      "cell_type": "code",
      "source": [
        "#file_name = file_list[0]\n",
        "#x_train,y_train = read_numpy_file(file_name)\n",
        "display_training_sample(file_list)\n",
        "#num_train_samples = count_training_samples(file_list)\n",
        "#print('Total training examples:',num_train_samples)"
      ],
      "execution_count": 15,
      "outputs": [
        {
          "output_type": "stream",
          "text": [
            "X shape:(54, 176, 200, 3),Y shape:(54, 4)\n"
          ],
          "name": "stdout"
        },
        {
          "output_type": "display_data",
          "data": {
            "image/png": "[encoded data removed]",
            "text/plain": [
              "<matplotlib.figure.Figure at 0x7f9793d5bd30>"
            ]
          },
          "metadata": {
            "tags": []
          }
        }
      ]
    },
    {
      "metadata": {
        "id": "difoR9ZrvY17",
        "colab_type": "code",
        "colab": {}
      },
      "cell_type": "code",
      "source": [
        "def _get_data_for_dataset(file_id,file_name):\n",
        "    \n",
        "    #print(file_id.decode())  #For debugging\n",
        "    downloaded = drive.CreateFile({'id':file_id.decode()}) # replace the id with id of file you want to access\n",
        "    downloaded.GetContentFile(file_name.decode())\n",
        "    \n",
        "    data = np.load(file_name.decode())\n",
        "    \n",
        "    #data = np.load(os.path.join(folder_name, file_name.decode()))\n",
        "    #data = list(data)\n",
        "    \n",
        "    x_train = np.array([i[1] for i in data[:-10]]).reshape(-1, 176, 200, 3)\n",
        "    y_train = np.array([i[0] for i in data[:-10]])\n",
        "    return (x_train/255).astype('float32', copy=False),y_train.astype('float32', copy=False)\n",
        "\n",
        "#Make dataset for training\n",
        "dataset_train = tf.data.Dataset.from_tensor_slices((file_ids_training,file_names_training))\n",
        "dataset_train = dataset_train.flat_map(lambda file_id,file_name: tf.data.Dataset.from_tensor_slices(\n",
        "    tuple (tf.py_func(_get_data_for_dataset, [file_id,file_name], [tf.float32,tf.float32]))))\n",
        "\n",
        "dataset_train= dataset_train.shuffle(buffer_size=500)\n",
        "dataset_train= dataset_train.batch(128) #Make dataset, shuffle, and create batches\n",
        "dataset_train= dataset_train.repeat()\n",
        "dataset_train = dataset_train.prefetch(1)\n",
        "dataset_train_iterator = dataset_train.make_one_shot_iterator()\n",
        "get_train_batch = dataset_train_iterator.get_next()\n",
        "\n",
        "#Make dataset for validation\n",
        "dataset_valid = tf.data.Dataset.from_tensor_slices((file_ids_validation,file_names_validation))\n",
        "dataset_valid = dataset_valid.flat_map(lambda file_id,file_name: tf.data.Dataset.from_tensor_slices(\n",
        "    tuple (tf.py_func(_get_data_for_dataset, [file_id,file_name], [tf.float32,tf.float32]))))\n",
        "\n",
        "dataset_valid= dataset_valid.shuffle(buffer_size=500)\n",
        "dataset_valid= dataset_valid.batch(128) #Make dataset, shuffle, and create batches\n",
        "dataset_valid= dataset_valid.repeat()\n",
        "dataset_valid = dataset_valid.prefetch(1)\n",
        "dataset_valid_iterator = dataset_valid.make_one_shot_iterator()\n",
        "get_valid_batch = dataset_valid_iterator.get_next()\n"
      ],
      "execution_count": 0,
      "outputs": []
    },
    {
      "metadata": {
        "id": "ToBtbKupEhmR",
        "colab_type": "code",
        "colab": {
          "base_uri": "https://localhost:8080/",
          "height": 36
        },
        "outputId": "f584f1fd-dd48-4780-935a-ab90ebe5ef96"
      },
      "cell_type": "code",
      "source": [
        "#Check if datset is giving correct output\n",
        "with tf.Session() as sess:\n",
        "    \n",
        "    x_train,y_train = sess.run(get_train_batch)\n",
        "    x_valid,y_valid = sess.run(get_valid_batch)\n",
        "print(x_train.shape,y_train.shape)"
      ],
      "execution_count": 21,
      "outputs": [
        {
          "output_type": "stream",
          "text": [
            "(128, 176, 200, 3) (128, 4)\n"
          ],
          "name": "stdout"
        }
      ]
    },
    {
      "metadata": {
        "id": "nvgeKdxtvY1-",
        "colab_type": "code",
        "colab": {}
      },
      "cell_type": "code",
      "source": [
        "#Hyper parameters\n",
        "learning_rate = 1e-4\n",
        "epochs = 10"
      ],
      "execution_count": 0,
      "outputs": []
    },
    {
      "metadata": {
        "id": "j3ufP8WrvY2B",
        "colab_type": "code",
        "colab": {
          "base_uri": "https://localhost:8080/",
          "height": 743
        },
        "outputId": "4ae6851f-f2dd-4b28-9d5e-0c45d1be7e4d"
      },
      "cell_type": "code",
      "source": [
        "model = Sequential()\n",
        "#model.add(InputLayer(input_shape=(176,200,3),name='Input'))\n",
        "model.add(Conv2D(32,(3,3),padding='same',input_shape=(176,200,3),activation ='relu',name='Conv1'))\n",
        "model.add(Conv2D(32,(3,3),activation ='relu',name='Conv2'))              #Reduces size\n",
        "model.add(MaxPooling2D(pool_size=(2,2)))\n",
        "model.add(Dropout(0.2))\n",
        "\n",
        "model.add(Conv2D(64,(3,3),padding='same',activation ='relu',name='Conv3'))\n",
        "model.add(Conv2D(64,(3,3),activation ='relu',name='Conv4'))           #Reduces size\n",
        "model.add(MaxPooling2D(pool_size=(2,2)))\n",
        "model.add(Dropout(0.2))\n",
        "\n",
        "model.add(Conv2D(128,(3,3),padding='same',activation ='relu',name='Conv5'))\n",
        "model.add(Conv2D(128,(3,3),activation ='relu',name='Conv6'))           #Reduces size\n",
        "model.add(MaxPooling2D(pool_size=(2,2)))\n",
        "model.add(Dropout(0.2))\n",
        "\n",
        "model.add(Flatten())\n",
        "model.add(Dense(512,activation = 'relu',name='Dense1'))\n",
        "model.add(Dropout(0.2))\n",
        "model.add(Dense(4,activation = 'softmax',name='Output'))\n",
        "\n",
        "optimizer = tf.keras.optimizers.Adam(lr=learning_rate,decay=1e-6)\n",
        "#optimizer = tf.train.AdamOptimizer(learning_rate=learning_rate)\n",
        "\n",
        "model.compile(loss='categorical_crossentropy',optimizer = optimizer,metrics=['accuracy'])\n",
        "\n",
        "tensorboard = TensorBoard(log_dir='logs/stage1')\n",
        "#checkpointer = ModelCheckpoint(filepath='./keras_models/model.{epoch:02d}-{loss:.3f}-{acc:.2f}-{val_acc:.2f}.hdf5',monitor='acc',period=1)\n",
        "\n",
        "model.summary()"
      ],
      "execution_count": 18,
      "outputs": [
        {
          "output_type": "stream",
          "text": [
            "_________________________________________________________________\n",
            "Layer (type)                 Output Shape              Param #   \n",
            "=================================================================\n",
            "Conv1 (Conv2D)               (None, 176, 200, 32)      896       \n",
            "_________________________________________________________________\n",
            "Conv2 (Conv2D)               (None, 174, 198, 32)      9248      \n",
            "_________________________________________________________________\n",
            "max_pooling2d_3 (MaxPooling2 (None, 87, 99, 32)        0         \n",
            "_________________________________________________________________\n",
            "dropout_4 (Dropout)          (None, 87, 99, 32)        0         \n",
            "_________________________________________________________________\n",
            "Conv3 (Conv2D)               (None, 87, 99, 64)        18496     \n",
            "_________________________________________________________________\n",
            "Conv4 (Conv2D)               (None, 85, 97, 64)        36928     \n",
            "_________________________________________________________________\n",
            "max_pooling2d_4 (MaxPooling2 (None, 42, 48, 64)        0         \n",
            "_________________________________________________________________\n",
            "dropout_5 (Dropout)          (None, 42, 48, 64)        0         \n",
            "_________________________________________________________________\n",
            "Conv5 (Conv2D)               (None, 42, 48, 128)       73856     \n",
            "_________________________________________________________________\n",
            "Conv6 (Conv2D)               (None, 40, 46, 128)       147584    \n",
            "_________________________________________________________________\n",
            "max_pooling2d_5 (MaxPooling2 (None, 20, 23, 128)       0         \n",
            "_________________________________________________________________\n",
            "dropout_6 (Dropout)          (None, 20, 23, 128)       0         \n",
            "_________________________________________________________________\n",
            "flatten_1 (Flatten)          (None, 58880)             0         \n",
            "_________________________________________________________________\n",
            "Dense1 (Dense)               (None, 512)               30147072  \n",
            "_________________________________________________________________\n",
            "dropout_7 (Dropout)          (None, 512)               0         \n",
            "_________________________________________________________________\n",
            "Output (Dense)               (None, 4)                 2052      \n",
            "=================================================================\n",
            "Total params: 30,436,132\n",
            "Trainable params: 30,436,132\n",
            "Non-trainable params: 0\n",
            "_________________________________________________________________\n"
          ],
          "name": "stdout"
        }
      ]
    },
    {
      "metadata": {
        "id": "FyRO4NfCvY2H",
        "colab_type": "code",
        "colab": {
          "base_uri": "https://localhost:8080/",
          "height": 130
        },
        "outputId": "106c8312-d246-45a2-e6ef-d053c2896b19"
      },
      "cell_type": "code",
      "source": [
        "#Hyper parameters\n",
        "epochs = 2\n",
        "#model.fit(dataset, epochs=epochs, steps_per_epoch=1000,verbose=1, callbacks=[tensorboard])\n",
        "model.fit(dataset_train, epochs=epochs, steps_per_epoch=10,validation_data=dataset_valid,validation_steps =10,verbose=1, callbacks=[tensorboard])#,checkpointer\n"
      ],
      "execution_count": 23,
      "outputs": [
        {
          "output_type": "stream",
          "text": [
            "Epoch 1/2\n",
            "10/10 [==============================] - 46s 5s/step - loss: 1.3869 - acc: 0.2492 - val_loss: 1.3861 - val_acc: 0.2633\n",
            "Epoch 2/2\n",
            "10/10 [==============================] - 39s 4s/step - loss: 1.3867 - acc: 0.2609 - val_loss: 1.3855 - val_acc: 0.2734\n"
          ],
          "name": "stdout"
        },
        {
          "output_type": "execute_result",
          "data": {
            "text/plain": [
              "<tensorflow.python.keras.callbacks.History at 0x7f96e7799dd8>"
            ]
          },
          "metadata": {
            "tags": []
          },
          "execution_count": 23
        }
      ]
    },
    {
      "metadata": {
        "id": "WeEGJffYvY2N",
        "colab_type": "code",
        "colab": {
          "base_uri": "https://localhost:8080/",
          "height": 54
        },
        "outputId": "2cd3083e-4885-4c8a-cf79-cb87ed18f1c2"
      },
      "cell_type": "code",
      "source": [
        "#Save model\n",
        "model_name = \"BasicCNN-{}-epochs-{}-LR-STAGE1.h5\".format(epochs, learning_rate)\n",
        "model.save(model_name)\n",
        "print('Model saved')\n",
        "# Upload file to folder\n",
        "keras_models_folder_id = '1PR8iS-ZbYX60nguD4behZaNoYCzXDjl0' #put folder id here \n",
        "f = drive.CreateFile({\"parents\": [{\"kind\": \"drive#fileLink\", \"id\": keras_models_folder_id}]})\n",
        "f.SetContentFile(model_name)\n",
        "f.Upload()\n",
        "print('Model uploaded')\n"
      ],
      "execution_count": 25,
      "outputs": [
        {
          "output_type": "stream",
          "text": [
            "Model saved\n",
            "Model uploaded\n"
          ],
          "name": "stdout"
        }
      ]
    }
  ]
}